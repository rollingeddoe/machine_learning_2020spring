{
 "cells": [
  {
   "cell_type": "code",
   "execution_count": 1,
   "metadata": {},
   "outputs": [],
   "source": [
    "import numpy as np\n",
    "import pandas as pd\n",
    "from sklearn.model_selection import train_test_split\n",
    "import random\n",
    "from matplotlib import pyplot as plt\n",
    "from sklearn.utils import shuffle\n",
    "import datetime"
   ]
  },
  {
   "cell_type": "markdown",
   "metadata": {},
   "source": [
    "# Computing Risk"
   ]
  },
  {
   "cell_type": "markdown",
   "metadata": {},
   "source": [
    "1. \n",
    "(a).\n",
    "\\begin{align}\n",
    "    E(\\|\\overrightarrow{X}\\|_2^2) &= E(X_1^2 + X_2^2 + X_3^2 +...+X_n^2)\\\\\n",
    "    &= E(X_1^2) + E(X_2^2) +...+E(X_n^2)\\\\\n",
    "    &= 2 + 2 + ... + 2 = 2n\n",
    "\\end{align}\n",
    "(b).\n",
    "\\begin{align}\n",
    "    E(\\|\\overrightarrow{X}\\|_\\infty) &= E(max(|X_i|))\\\\\n",
    "    &= \\frac{1}{5^n}*0 + (\\frac{3}{5}^n-\\frac{1}{5}^n) *1 + (1-\\frac{3}{5}^n)*2\\\\\n",
    "    &= 2-\\frac{1^n}{5^n}-\\frac{3^n}{5^n}\n",
    "\\end{align}\n",
    "(c) The covariance matrix of $\\overrightarrow{X}$ is:\n",
    "\\begin{align}\n",
    "    cov(\\overrightarrow{X}) &= \n",
    "    \\begin{pmatrix}\n",
    "    \\sigma X_1 & cov(X_1,X_2) &...& cov(X_1,X_n)\\\\\n",
    "    cov(X_2,X_1) &\\sigma X_2 & ...& cov(X_2,X_n)\\\\\n",
    "    ......\\\\\n",
    "    cov(X_n,X_1) &cov(X_n,X_2) & ... &\\sigma X_n\n",
    "    \\end{pmatrix} \\\\\n",
    "    &= \\begin{pmatrix}\n",
    "    \\sigma X_1 &0 &...& 0\\\\\n",
    "   0 &\\sigma X_2 & ...& 0\\\\\n",
    "    ......\\\\\n",
    "    0&0& ... &\\sigma X_n\n",
    "    \\end{pmatrix} \\\\\n",
    "    &= \\begin{pmatrix}\n",
    "   2 &0 &...& 0\\\\\n",
    "   0 &2 & ...& 0\\\\\n",
    "    ......\\\\\n",
    "    0&0& ... &2\n",
    "    \\end{pmatrix}\n",
    "\\end{align}"
   ]
  },
  {
   "cell_type": "markdown",
   "metadata": {},
   "source": [
    "2. \n",
    "(a).\n",
    "According to Jensen's inequality: $E[(a-y)^2] \\geq E^2[(a-y)]$\n",
    "\n",
    "\n",
    "i.\\begin{align}\n",
    "    a^* &=  argmin_a E[(a-y)^2]\\\\\n",
    "    E[(a^*-y)^2]&= E^2(a^*-y)\n",
    "\\end{align}\n",
    "Thus, $a^* = E(y)$.\n",
    "\n",
    "\n",
    "ii.\n",
    "Bayes Risk:\n",
    "\\begin{align}\n",
    "    R(f^*) &= E[(a^*-y)^2]\\\\\n",
    "    &= E[(E(y)^*-y)^2]\\\\\n",
    "    &= E[(E^2(y)] - E[2E(y)*y] + E[y^2]\\\\\n",
    "    &= E^2(y) + E(y^2) - 2E[E(y)]*E(y)\\\\\n",
    "    &= E(y^2) - E^2(y) = var(y)\n",
    "\\end{align}\n",
    "\n",
    "(b). \n",
    "\n",
    "i.\n",
    "\\begin{equation}\n",
    "    f(x^*) = argmin_a E[(a-y)^2|x]\n",
    "\\end{equation}\n",
    "From (a), we know that $a^* = E(y)$, similarly, $argmin_a E[(a-y)^2|x] = E(y|x)$\n",
    "\n",
    "ii.TP $E[(E(y|x) - y)^2] \\leq E[(f(x)-y)^2]$\\\\\n",
    "we decompose the right hand side:\n",
    "\\begin{align}\n",
    "    E[(f(x)-y)^2] &= E[f(x)^2 - 2yf(x) + y^2]\\\\\n",
    "    &=  E[f(x)^2] - E[2yf(x)] + E[y^2]\\\\\n",
    "    &=  E[f(x)^2] - 2E[y]E[f(x)] + E[y^2]\\\\\n",
    "    &= E[f(x)^2] - 2E[E(y|X)]E[f(x)] + E[y^2]\\\\\n",
    "    &=  E[f(x)^2] - 2E[E(y|X)f(x)] +E^2(y|X)- E^2(y|X) + E[y^2]\\\\\n",
    "    &= E[(f(x) - E(y|x))^2] + E[E[y^2|x]] - E^2(y|X)\\\\\n",
    "    &= E[(f(x) - E(y|x))^2] + E[E[y^2|x] - E^2(y|X)]\\\\\n",
    "    &= E[(f(x) - E(y|x))^2] + E[var(y|x)]\\\\\n",
    "    &= E[(f(x) - E(y|x))^2] + E[(y - E(y|x))^2]\n",
    "\\end{align}\n",
    "Thus, the inequality becomes:\n",
    "\\begin{equation}\n",
    "    E[(E(y|x) - y)^2] \\leq E[(f(x) - E(y|x))^2] + E[(y - E(y|x))^2]\n",
    "\\end{equation}\n",
    "Since $E[(f(x) - E(y|x))^2] \\geq 0$, the inequality is proved."
   ]
  },
  {
   "cell_type": "markdown",
   "metadata": {},
   "source": [
    "# Linear Regression"
   ]
  },
  {
   "cell_type": "markdown",
   "metadata": {},
   "source": [
    "## 1. feature_normalization"
   ]
  },
  {
   "cell_type": "code",
   "execution_count": 2,
   "metadata": {},
   "outputs": [],
   "source": [
    "def is_constant(f):\n",
    "        l = f[0]\n",
    "        for i in range(1,len(f)):\n",
    "            if f[i] != l:\n",
    "                break\n",
    "            else:\n",
    "                l = f[i]\n",
    "        return f[i] == l"
   ]
  },
  {
   "cell_type": "code",
   "execution_count": 3,
   "metadata": {},
   "outputs": [],
   "source": [
    "def feature_normalization(train, test):\n",
    "#     \"\"\"Rescale the data so that each feature in the training set is in\n",
    "#     the interval [0,1], and apply the same transformations to the test\n",
    "#     set, using the statistics computed on the training set.\n",
    "\n",
    "#     Args:\n",
    "#         train - training set, a 2D numpy array of size (num_instances, num_features)\n",
    "#         test - test set, a 2D numpy array of size (num_instances, num_features)\n",
    "\n",
    "#     Returns:\n",
    "#         train_normalized - training set after normalization\n",
    "#         test_normalized - test set after normalization\n",
    "#     \"\"\"\n",
    "    # TODO\n",
    "    y = []\n",
    "    minimum = []\n",
    "    for x in range(len(train.T)):\n",
    "        if is_constant(train.T[x]):\n",
    "            continue\n",
    "        else:\n",
    "            s = min(train.T[x])\n",
    "            minimum.append(s)\n",
    "            m = max(train.T[x])\n",
    "            y.append(1/float(m-s))\n",
    "    minimum = np.array(minimum)\n",
    "    #broadcast on train and test data\n",
    "    return np.dot((train - minimum),np.diag(y)), np.dot((test - minimum),np.diag(y))"
   ]
  },
  {
   "cell_type": "markdown",
   "metadata": {},
   "source": [
    "#### Importing data"
   ]
  },
  {
   "cell_type": "code",
   "execution_count": 4,
   "metadata": {},
   "outputs": [
    {
     "name": "stdout",
     "output_type": "stream",
     "text": [
      "loading the dataset\n",
      "Split into Train and Test\n",
      "Scaling all to [0, 1]\n"
     ]
    }
   ],
   "source": [
    "def main():\n",
    "    #Loading the dataset\n",
    "    print('loading the dataset')\n",
    "\n",
    "    df = pd.read_csv('ridge_regression_dataset.csv', delimiter=',')\n",
    "    X = df.values[:,:-1]\n",
    "    y = df.values[:,-1]\n",
    "\n",
    "    print('Split into Train and Test')\n",
    "    X_train, X_test, y_train, y_test = train_test_split(X, y, test_size =100, random_state=10)\n",
    "\n",
    "    print(\"Scaling all to [0, 1]\")\n",
    "    X_train, X_test = feature_normalization(X_train, X_test)\n",
    "    X_train = np.hstack((X_train, np.ones((X_train.shape[0], 1))))  # Add bias term\n",
    "    X_test = np.hstack((X_test, np.ones((X_test.shape[0], 1))))  # Add bias term\n",
    "    \n",
    "    return X_train, X_test, y_train, y_test\n",
    "\n",
    "if __name__ == \"__main__\":\n",
    "    X_train, X_test, y_train, y_test = main()"
   ]
  },
  {
   "cell_type": "markdown",
   "metadata": {},
   "source": [
    "## 2."
   ]
  },
  {
   "cell_type": "markdown",
   "metadata": {},
   "source": [
    "(a). $J(\\theta ) = \\frac{1}{m} * (X\\theta - y)^T*(X\\theta - y)$"
   ]
  },
  {
   "cell_type": "markdown",
   "metadata": {},
   "source": [
    "(b). $\\delta J(\\theta ) = \\frac{2}{m} * (X \\theta - y)^T*X$"
   ]
  },
  {
   "cell_type": "markdown",
   "metadata": {},
   "source": [
    "(c). $J(\\theta + \\eta h) = J(\\theta) + \\eta \\delta J(\\theta)^Th$"
   ]
  },
  {
   "cell_type": "markdown",
   "metadata": {},
   "source": [
    "(d). $ \\theta' = \\theta - \\eta \\delta J(\\theta) = \\theta - \\frac{2 \\eta}{m} X^T(X\\theta-y), \\eta > 0$"
   ]
  },
  {
   "cell_type": "markdown",
   "metadata": {},
   "source": [
    "##### (e). The square loss function"
   ]
  },
  {
   "cell_type": "code",
   "execution_count": 5,
   "metadata": {},
   "outputs": [],
   "source": [
    "def compute_square_loss(X, y, theta):\n",
    "#     \"\"\"\n",
    "#     Given a set of X, y, theta, compute the average square loss for predicting y with X*theta.\n",
    "\n",
    "#     Args:\n",
    "#         X - the feature vector, 2feature_normalizationD numpy array of size (num_instances, num_features)\n",
    "#         y - the label vector, 1D numpy array of size (num_instances)\n",
    "#         theta - the parameter vector, 1D array of size (num_features)\n",
    "\n",
    "#     Returns:\n",
    "#         loss - the average square loss, scalar\n",
    "#     \"\"\"\n",
    "    loss = 0 #Initialize the average square loss\n",
    "    yhat = np.dot(X,theta)\n",
    "    for i in range(len(yhat)):\n",
    "        loss += np.square(y[i]-yhat[i])\n",
    "    loss = loss/float(len(yhat))\n",
    "    return loss"
   ]
  },
  {
   "cell_type": "markdown",
   "metadata": {},
   "source": [
    "##### (f). The gradient of the square loss function"
   ]
  },
  {
   "cell_type": "code",
   "execution_count": 6,
   "metadata": {},
   "outputs": [],
   "source": [
    "def compute_square_loss_gradient(X, y, theta):\n",
    "#     \"\"\"\n",
    "#     Compute the gradient of the average square loss (as defined in compute_square_loss), at the point theta.\n",
    "\n",
    "#     Args:\n",
    "#         X - th\\|e feature vector, 2D numpy array of size (num_instances, num_features)\n",
    "#         y - the label vector, 1D numpy array of size (num_instances)\n",
    "#         theta - the parameter vector, 1D numpy array of size (num_features)\n",
    "\n",
    "#     Returns:\n",
    "#         grad - gradient vector, 1D numpy array of size (num_features)\n",
    "#     \"\"\"\n",
    "    #the partial derivative is essentially x_i*(y_i-y)\n",
    "    ins = X.shape[0]\n",
    "    diff = np.dot(X,theta) - y\n",
    "    gradient = 2.0/ins * (np.dot(diff,X))\n",
    "    return gradient"
   ]
  },
  {
   "cell_type": "markdown",
   "metadata": {},
   "source": [
    "### 3."
   ]
  },
  {
   "cell_type": "markdown",
   "metadata": {},
   "source": [
    "###### 3(a). Gradient checker"
   ]
  },
  {
   "cell_type": "code",
   "execution_count": 11,
   "metadata": {},
   "outputs": [],
   "source": [
    "#Getting the gradient calculation correct is often the trickiest part\n",
    "#of any gradient-based optimization algorithm. Fortunately, it's very\n",
    "#easy to check that the gradient calculation is correct using the\n",
    "#definition of gradient.\n",
    "#See http://ufldl.stanford.edu/wiki/index.php/Gradient_checking_and_advanced_optimization\n",
    "def grad_checker(X, y, theta, epsilon=0.01, tolerance=1e-4):\n",
    "    \"\"\"Implement Gradient Checker\n",
    "    Check that the function compute_square_loss_gradient returns the\n",
    "    correct gradient for the given X, y, and theta.\n",
    "\n",
    "    Let d be the number of features. Here we numerically estimate the\n",
    "    gradient by approximating the directional derivative in each of\n",
    "    the d coordinate directions:\n",
    "    (e_1 = (1,0,0,...,0), e_2 = (0,1,0,...,0), ..., e_d = (0,...,0,1))\n",
    "\n",
    "    The approximation for the directional derivative of J at the point\n",
    "    theta in the direction e_i is given by:\n",
    "    ( J(theta + epsilon * e_i) - J(theta - epsilon * e_i) ) / (2*epsilon).\n",
    "\n",
    "    We then look at the Euclidean distance between the gradient\n",
    "    computed using this approximation and the gradient computed by\n",
    "    compute_square_loss_gradient(X, y, theta).  If the Euclidean\n",
    "    distance exceeds tolerance, we say the gradient is incorrect.\n",
    "\n",
    "    Args:\n",
    "        X - the feature vector, 2D numpy array of size (num_instances, num_features)\n",
    "        y - the label vector, 1D numpy array of size (num_instances)\n",
    "        theta - the parameter vector, 1D numpy array of size (num_features)\n",
    "        epsilon - the epsilon used in approximation\n",
    "        tolerance - the tolerance error\n",
    "\n",
    "    Return:\n",
    "        A boolean value indicating whether the gradient is correct or not\n",
    "    \"\"\"\n",
    "    true_gradient = compute_square_loss_gradient(X, y, theta) #The true gradient\n",
    "    num_features = theta.shape[0]\n",
    "    approx_grad = np.zeros(num_features) #Initialize the gradient we approximate\n",
    "    #TODO\n",
    "    \n",
    "    for i in range(num_features):\n",
    "        e_i = np.zeros(num_features)\n",
    "        e_i[i]=1\n",
    "        plus = theta + epsilon*e_i\n",
    "        minus = theta - epsilon*e_i\n",
    "        approx_grad[i]= (compute_square_loss(X,y,plus)-compute_square_loss(X,y,minus))/(2*epsilon)\n",
    "    return (np.linalg.norm(approx_grad-true_gradient) <= tolerance)"
   ]
  },
  {
   "cell_type": "markdown",
   "metadata": {},
   "source": [
    "##### 4(a). Batch gradient descent"
   ]
  },
  {
   "cell_type": "code",
   "execution_count": 12,
   "metadata": {},
   "outputs": [],
   "source": [
    "def batch_grad_descent(X, y, alpha=0.1, num_step=1000, grad_check=False):\n",
    "    \"\"\"\n",
    "    In this question you will implement batch gradient descent to\n",
    "    minimize the average square loss objective.\n",
    "\n",
    "    Args:\n",
    "        X - the feature vector, 2D numpy array of size (num_instances, num_features)\n",
    "        y - the label vector, 1D numpy array of size (num_instances)\n",
    "        alpha - step size in gradient descent\n",
    "        num_step - number of steps to run\n",
    "        grad_check - a boolean value indicating whether checking the gradient when updating\n",
    "\n",
    "    Returns:\n",
    "        theta_hist - the history of parameter vector, 2D numpy array of size (num_step+1, num_features)\n",
    "                     for instance, theta in step 0 should be theta_hist[0], theta in step (num_step) is theta_hist[-1]\n",
    "        loss_s = datetime.datetime.now()hist - the history of average square loss on the data, 1D numpy array, (num_step+1)\n",
    "    \"\"\"\n",
    "    s = datetime.datetime.now()\n",
    "    num_instances, num_features = X.shape[0], X.shape[1]\n",
    "    theta_hist = np.zeros((num_step+1, num_features)) #Initialize theta_hist\n",
    "    loss_hist = np.zeros(num_step+1) #Initialize loss_hist\n",
    "    theta = np.zeros(num_features) #Initialize theta\n",
    "    #TODO\n",
    "    for i in range(num_step+1):\n",
    "        if i == 0:\n",
    "            theta_hist[i] = theta\n",
    "            loss_hist[i] = compute_square_loss(X, y, theta)\n",
    "        gradient = compute_square_loss_gradient(X, y, theta)\n",
    "        if grad_check:\n",
    "            if not grad_checker(X, y, theta):\n",
    "                print('Wrong Gradient at: ',alpha)\n",
    "                break\n",
    "        theta = theta - alpha*gradient.T\n",
    "        theta_hist[i] = theta\n",
    "        loss_hist[i]= compute_square_loss(X, y, theta)\n",
    "    e = datetime.datetime.now()\n",
    "    return theta_hist,loss_hist, e-s"
   ]
  },
  {
   "cell_type": "markdown",
   "metadata": {},
   "source": [
    "##### 4(b).Experiment with the step sizes"
   ]
  },
  {
   "cell_type": "code",
   "execution_count": 10,
   "metadata": {
    "scrolled": true
   },
   "outputs": [
    {
     "name": "stdout",
     "output_type": "stream",
     "text": [
      "Wrong Gradient at:  0.06\n",
      "Wrong Gradient at:  0.07\n"
     ]
    }
   ],
   "source": [
    "# 4(b).Experiment with the step sizes\n",
    "stepsizes = [0.01,0.02,0.03,0.04, 0.05,0.1,0.5]\n",
    "theta_hist1,loss_hist1,t = batch_grad_descent(X_train,y_train,alpha=0.01,grad_check=True)\n",
    "theta_hist2,loss_hist2,t = batch_grad_descent(X_train,y_train,alpha=0.02,grad_check=True)\n",
    "theta_hist3,loss_hist3,t = batch_grad_descent(X_train,y_train,alpha=0.03,grad_check=True)\n",
    "theta_hist4,loss_hist4,t = batch_grad_descent(X_train,y_train,alpha=0.04,grad_check=True)\n",
    "theta_hist5,loss_hist5,t = batch_grad_descent(X_train,y_train,alpha=0.05,grad_check=True)\n",
    "theta_hist10,loss_hist10,t = batch_grad_descent(X_train,y_train,alpha=0.05,grad_check=True)\n",
    "theta_hist4,loss_hist8,t = batch_grad_descent(X_train,y_train,alpha=0.06,grad_check=True)\n",
    "theta_hist5,loss_hist9,t = batch_grad_descent(X_train,y_train,alpha=0.07,grad_check=True)\n",
    "#theta_hist6,loss_hist6 = batch_grad_descent(X_train,y_train,alpha=0.1,grad_check=True)\n",
    "#theta_hist7,loss_hist7 = batch_grad_descent(X_train,y_train,alpha=0.5,grad_check=True)"
   ]
  },
  {
   "cell_type": "code",
   "execution_count": 18,
   "metadata": {},
   "outputs": [
    {
     "data": {
      "image/png": "[encoded data removed]",
      "text/plain": [
       "<Figure size 432x288 with 1 Axes>"
      ]
     },
     "metadata": {
      "needs_background": "light"
     },
     "output_type": "display_data"
    }
   ],
   "source": [
    "stepsizes_1 = [0.015,0.02,0.025,0.03,0.04]\n",
    "stepsizes_2 = [0.01,0.04,0.05,0.06,0.07,0.1,0.5]\n",
    "for stepsize in stepsizes_1:\n",
    "    theta_hist,loss_hist,t = batch_grad_descent(X_train , y_train, alpha=stepsize, num_step=1000, grad_check=True)\n",
    "    plt.plot(range(len(loss_hist)),np.log(loss_hist), label = \"alpha = %s\" %stepsize)\n",
    "plt.legend(loc = 1)\n",
    "plt.show()"
   ]
  },
  {
   "cell_type": "code",
   "execution_count": 15,
   "metadata": {
    "scrolled": true
   },
   "outputs": [
    {
     "name": "stdout",
     "output_type": "stream",
     "text": [
      "time taken at stepsize 0.01 is 0:00:18.257578\n",
      "time taken at stepsize 0.015 is 0:00:19.637929\n",
      "time taken at stepsize 0.02 is 0:00:18.662639\n",
      "time taken at stepsize 0.025 is 0:00:18.787513\n",
      "time taken at stepsize 0.03 is 0:00:18.969445\n",
      "time taken at stepsize 0.04 is 0:00:18.397511\n",
      "time taken at stepsize 0.05 is 0:00:18.228431\n"
     ]
    }
   ],
   "source": [
    "stepsizes = [0.01,0.015,0.02,0.025,0.03,0.04,0.05]\n",
    "train_loss=[]\n",
    "test_loss = []\n",
    "for stepsize in stepsizes:\n",
    "    theta_hist,loss_hist,time = batch_grad_descent(X_train , y_train, alpha=stepsize, num_step=1000, grad_check=True)\n",
    "    train_loss.append(loss_hist[-1])\n",
    "    test_loss.append(compute_square_loss(X_test,y_test,theta_hist[-1]))\n",
    "    print(\"time taken at stepsize\",stepsize,\"is\",time)\n"
   ]
  },
  {
   "cell_type": "code",
   "execution_count": 16,
   "metadata": {
    "scrolled": true
   },
   "outputs": [
    {
     "data": {
      "image/png": "[encoded data removed]",
      "text/plain": [
       "<Figure size 432x288 with 1 Axes>"
      ]
     },
     "metadata": {
      "needs_background": "light"
     },
     "output_type": "display_data"
    }
   ],
   "source": [
    "plt.plot(stepsizes,test_loss, label = 'validation loss')\n",
    "plt.xlabel('stepsizes'),plt.ylabel('loss')\n",
    "plt.legend(loc=1)\n",
    "plt.show()"
   ]
  },
  {
   "cell_type": "markdown",
   "metadata": {},
   "source": [
    "\n",
    "After experimenting with different stepsizes, the wrong gradient starts at alpha = 0.055. Thus we zoomed in the range to 0.01-0.05. Although based on the test loss, stepsize = 0.01 yields the smallest test-loss, 0.01 converges very slow. Thus we need to make a trade-off between the time and accuracy. In practice, I think 0.025 would be a better choice because it also takes the least amount of time."
   ]
  },
  {
   "cell_type": "markdown",
   "metadata": {},
   "source": [
    "##### 4c. (Optional) Backtracking line search"
   ]
  },
  {
   "cell_type": "code",
   "execution_count": 13,
   "metadata": {},
   "outputs": [],
   "source": [
    "#Check http://en.wikipedia.org/wiki/Backtracking_line_search for details\n",
    "def backtracking_line_search(X, y, f_loss, f_grad,gamma=0.5, lr = 0.5,num_step=1000,epsilon = 1e-6):\n",
    "    s = datetime.datetime.now()\n",
    "    num_instances, num_features = X.shape[0], X.shape[1]\n",
    "    loss_hist = []\n",
    "    theta = np.zeros(num_features) #Initialize theta\n",
    "    \n",
    "    loss = f_loss(X, y, theta)\n",
    "    loss_hist.append(loss)\n",
    "    err = 1.0\n",
    "    it = 0\n",
    "    alpha = 0.5\n",
    "    \n",
    "    while err > epsilon and it < num_step:\n",
    "        gradient = f_grad(X, y, theta)\n",
    "        loss = f_loss(X, y, theta)\n",
    "        \n",
    "        theta_2 = theta - lr*gradient\n",
    "        loss_2 = f_loss(X,y,theta_2)\n",
    "        loss_hist.append(loss_2)\n",
    "        \n",
    "        \n",
    "        if loss - loss_2 < alpha * lr * np.dot(gradient,gradient):\n",
    "            lr = gamma *lr\n",
    "            theta = theta_2\n",
    "            err = np.abs(loss-loss_2)\n",
    "            \n",
    "        it+=1\n",
    "    e = datetime.datetime.now()\n",
    "    return theta,loss_hist,lr,e-s,it"
   ]
  },
  {
   "cell_type": "code",
   "execution_count": 68,
   "metadata": {},
   "outputs": [
    {
     "data": {
      "image/png": "[encoded data removed]",
      "text/plain": [
       "<Figure size 432x288 with 1 Axes>"
      ]
     },
     "metadata": {
      "needs_background": "light"
     },
     "output_type": "display_data"
    },
    {
     "name": "stdout",
     "output_type": "stream",
     "text": [
      "alpha for backtracking linesearch is: 0.015625\n",
      "iteration for backtracking linesearch is: 1000\n",
      "time for backtracking linesearch is: 0:00:00.384944\n",
      "time for batch gradient descent is: 0:00:00.384944\n"
     ]
    }
   ],
   "source": [
    "theta_1,loss_hist1,alpha,time1,iteration = backtracking_line_search(X_train, y_train, f_loss = compute_square_loss, f_grad=compute_square_loss_gradient,gamma=0.5, num_step=1000,epsilon = 1e-4)\n",
    "theta_2,loss_hist2,time2 = batch_grad_descent(X_train,y_train,alpha = 0.05,num_step = 1000,grad_check = False)\n",
    "plt.plot(range(len(loss_hist1)),np.log(loss_hist1), label = \"backtracking\")\n",
    "plt.plot(range(len(loss_hist2)),np.log(loss_hist2), label = \"batch_grad_descent\")\n",
    "plt.xlabel('epoch')\n",
    "plt.ylabel('loss')\n",
    "plt.legend(loc = 1)\n",
    "plt.show()\n",
    "print(\"alpha for backtracking linesearch is:\", alpha)\n",
    "print(\"iteration for backtracking linesearch is:\", iteration)\n",
    "#print(\"final loss for backtracking linesearch is:\",loss_hist1[-1] )\n",
    "print(\"time for backtracking linesearch is:\", time1)\n",
    "print(\"time for batch gradient descent is:\", time1)"
   ]
  },
  {
   "cell_type": "markdown",
   "metadata": {},
   "source": [
    "# Ridge Regression"
   ]
  },
  {
   "cell_type": "markdown",
   "metadata": {},
   "source": [
    "1. \\begin{align}\n",
    "    J(\\theta ) &= \\frac{1}{m} * (X\\theta - y)^T*(X\\theta - y) + \\lambda \\theta^T\\theta \\\\\n",
    "    \\delta J(\\theta ) &= \\frac{2}{m} * (X \\theta - y)^TX + 2\\lambda \\theta^T \\\\\n",
    "    \\theta' &= \\theta -  \\eta \\delta J(\\theta )\\\\\n",
    "    \\theta' &= \\theta -  \\eta (\\frac{2}{m} * (X \\theta - y)^TX + 2\\lambda \\theta^T)\n",
    "    \\end{align}"
   ]
  },
  {
   "cell_type": "markdown",
   "metadata": {},
   "source": [
    "### 2.The gradient of regularized batch gradient descent"
   ]
  },
  {
   "cell_type": "code",
   "execution_count": 14,
   "metadata": {},
   "outputs": [],
   "source": [
    "def compute_regularized_square_loss_gradient(X, y, theta, lambda_reg):\n",
    "    \"\"\"\n",
    "    Compute the gradient of L2-regularized average square loss function given X, y and theta\n",
    "\n",
    "    Args:\n",
    "        X - the feature vector, 2D numpy array of size (num_instances, num_features)\n",
    "        y - the label vector, 1D numpy array of size (num_instances)\n",
    "        theta - the parameter vector, 1D numpy array of size (num_features)\n",
    "        lambda_reg - the regularization coefficient\n",
    "\n",
    "    Returns:\n",
    "        grad - gradient vector, 1D numpy array of size (num_features)\n",
    "    \"\"\"\n",
    "    num_features = X.shape[0]\n",
    "    diff = np.dot(X,theta)\n",
    "    grad = 2/num_features*np.dot((diff - y),X) + 2*lambda_reg*theta\n",
    "    return grad\n"
   ]
  },
  {
   "cell_type": "markdown",
   "metadata": {},
   "source": [
    "### 3.Regularized batch gradient descent"
   ]
  },
  {
   "cell_type": "code",
   "execution_count": 15,
   "metadata": {},
   "outputs": [],
   "source": [
    "def regularized_grad_descent(X, y, alpha=0.05, lambda_reg=10**-2, num_step=1000):\n",
    "    \"\"\"\n",
    "    Args:\n",
    "        X - the feature vector, 2D numpy array of size (num_instances, num_features)\n",
    "        y - the label vector, 1D numpy array of size (num_instances)\n",
    "        alpha - step size in gradient descent\n",
    "        lambda_reg - the regularization coefficientprint(\"iteration for backtracking linesearch is:\", iteration)\n",
    "        num_step - number of steps to run\n",
    "    \n",
    "    Returns:\n",
    "        theta_hist - the history of parameter vector, 2D numpy array of size (num_step+1, num_features)\n",
    "                     for instance, theta in step 0 should be theta_hist[0], theta in step (num_step+1) is theta_hist[-1]\n",
    "        loss hist - the history of average square loss function without the regularization term, 1D numpy array.\n",
    "    \"\"\"\n",
    "    num_instances, num_features = X.shape[0], X.shape[1]\n",
    "    theta = np.zeros(num_features) #Initialize theta\n",
    "    theta_hist = np.zeros((num_step+1, num_features)) #Initialize theta_hist\n",
    "    loss_hist = np.zeros(num_step+1) #Initialize loss_hist\n",
    "    for i in range(num_step+1):\n",
    "        if i == 0:\n",
    "            theta_hist[i] = theta\n",
    "            loss_hist[i] = compute_square_loss(X, y, theta)\n",
    "        gradient = compute_regularized_square_loss_gradient(X, y, theta, lambda_reg)\n",
    "        theta = theta - alpha*gradient.T\n",
    "        theta_hist[i] = theta\n",
    "        loss_hist[i]= compute_square_loss(X, y, theta)\n",
    "    \n",
    "    return theta_hist,loss_hist"
   ]
  },
  {
   "cell_type": "markdown",
   "metadata": {},
   "source": [
    "4. The corresponding weight for bias term will decrease when we increase B. Thus, if we increase B to a large number, the corresponding weight will be significantly small. And thus the regularization of that term will also be very small, which can help us prevent shrinkage from regularization."
   ]
  },
  {
   "cell_type": "markdown",
   "metadata": {},
   "source": [
    "#### 5. Choosing lambda"
   ]
  },
  {
   "cell_type": "code",
   "execution_count": 25,
   "metadata": {},
   "outputs": [
    {
     "name": "stderr",
     "output_type": "stream",
     "text": [
      "C:\\ProgramData\\Anaconda3\\lib\\site-packages\\ipykernel_launcher.py:16: RuntimeWarning: overflow encountered in double_scalars\n",
      "  app.launch_new_instance()\n",
      "C:\\ProgramData\\Anaconda3\\lib\\site-packages\\ipykernel_launcher.py:16: RuntimeWarning: overflow encountered in square\n",
      "  app.launch_new_instance()\n",
      "C:\\ProgramData\\Anaconda3\\lib\\site-packages\\ipykernel_launcher.py:16: RuntimeWarning: overflow encountered in multiply\n",
      "  app.launch_new_instance()\n"
     ]
    }
   ],
   "source": [
    "#Experiment with lambdas\n",
    "lambdas = [10**(-7),10**(-5),0.001,0.01,0.1,10,100]\n",
    "test_losses = []\n",
    "train_loss = []\n",
    "for l in lambdas:\n",
    "    thetas,losses = regularized_grad_descent(X_train, y_train, alpha=0.05, lambda_reg=l, num_step=1000)\n",
    "    train_loss.append(float(np.sum(losses))/len(losses))\n",
    "    test_loss = compute_square_loss(X_test,y_test,thetas[-1])\n",
    "    test_losses.append(test_loss)\n",
    "#theta_hist1,loss_hist1 = backtracking_line_search(X_train, y_train, max_alpha = 0.05, beta=0.8, num_step=1000)"
   ]
  },
  {
   "cell_type": "code",
   "execution_count": 26,
   "metadata": {},
   "outputs": [
    {
     "data": {
      "image/png": "[encoded data removed]",
      "text/plain": [
       "<Figure size 432x288 with 1 Axes>"
      ]
     },
     "metadata": {
      "needs_background": "light"
     },
     "output_type": "display_data"
    }
   ],
   "source": [
    "#plotting the test losses\n",
    "plt.plot(np.log10(lambdas), test_losses,label = \"test_loss\")\n",
    "plt.plot(np.log10(lambdas), train_loss,label = \"train_loss\")\n",
    "plt.legend(loc = 1)\n",
    "plt.xlabel(\"log(lambda)\")\n",
    "plt.ylabel('test loss')\n",
    "plt.show()"
   ]
  },
  {
   "cell_type": "markdown",
   "metadata": {},
   "source": [
    "Observing from the result, we can see that the optimal lambda is around $10^{-2}$"
   ]
  },
  {
   "cell_type": "markdown",
   "metadata": {},
   "source": [
    "6. In practice, it's more preferable to select the theta that works best with test set, because we hope that our model can have better generalizability."
   ]
  },
  {
   "cell_type": "markdown",
   "metadata": {},
   "source": [
    "# Stochastic Gradient Descent"
   ]
  },
  {
   "cell_type": "markdown",
   "metadata": {},
   "source": [
    "1. \\begin{align}\n",
    "J(\\theta) &= \\frac{1}{m} \\sum ^m_{i=1} ((h_{\\theta}(x_i) - y_i)^2 + \\lambda \\theta^T \\theta)\\\\\n",
    "&=  \\frac{1}{m} \\sum ^m_{i=1} ((h_{\\theta}(x_i) - y_i)^2 + \\lambda  \\theta_i^2)\\\\\n",
    "f_i(\\theta) &= (h_{\\theta}(x_i) - y_i)^2 + \\lambda \\theta^T \\theta\n",
    "\\end{align}"
   ]
  },
  {
   "cell_type": "markdown",
   "metadata": {},
   "source": [
    "2. \n",
    "To show that $f_i(\\theta)$  is an unbiased estimator:\n",
    "\\begin{align}\n",
    "E(\\delta f_i(\\theta)) &= \\frac{1}{n} \\sum_{i=1}^n E(\\delta f_{m_i}(\\theta_m))\\\\\n",
    "&= \\frac{1}{n} \\sum_{i=1}^n E(\\delta f_{m_i}(\\theta_{m_i}))\\\\\n",
    "&= E(\\delta f_{m_1}(\\theta_{m_1}))\\\\\n",
    "&= \\sum_{i=1}^m P(mi = i) \\delta f_i(\\theta)\\\\\n",
    "&= \\frac{1}{m} \\sum_{i=1}^m (\\delta f_i(\\theta)) = \\delta J(\\theta)\n",
    "\\end{align}"
   ]
  },
  {
   "cell_type": "markdown",
   "metadata": {},
   "source": [
    "3. \\begin{align} \\theta' &= \\theta + \\eta J(\\theta)\\\\\n",
    "&= \\theta_i - \\eta [2 \\theta_i^Tx_i - y_i)x_i + 2 \\lambda \\theta_i ]\n",
    "\\end{align}"
   ]
  },
  {
   "cell_type": "markdown",
   "metadata": {},
   "source": [
    "#### 4.Stochastic gradient descent"
   ]
  },
  {
   "cell_type": "code",
   "execution_count": 16,
   "metadata": {},
   "outputs": [],
   "source": [
    "def stochastic_grad_descent(X, y, alpha=0.01, lambda_reg=10**-2, num_epoch=1000,c=0.1):\n",
    "    \"\"\"\n",
    "    In this question you will implement stochastic gradient descent with regularization term\n",
    "\n",
    "    Args:\n",
    "        X - the feature vector, 2D numpy array of size (num_instances, num_features)\n",
    "        y - the label vector, 1D numpy array of size (num_instances)\n",
    "        alpha - string or float, step size in gradient descent\n",
    "                NOTE: In SGD, it's not a good idea to use a fixed step size. Usually it's set to 1/sqrt(t) or 1/t\n",
    "                if alpha is a float, then the step size in every step is the float.\n",
    "                if alpha == \"1/sqrt(t)\", alpha = 1/sqrt(t).\n",
    "                if alpha == \"1/t\", alpha = 1/t.\n",
    "        lambda_reg - the regularization coefficient\n",
    "        num_epoch - number of epochs to go through the whole training set\n",
    "\n",
    "    Returns:\n",
    "        theta_hist - the history of parameter vector, 3D numpy array of size (num_epoch, num_instances, num_features)\n",
    "                     for instance, theta in epoch 0 should be theta_hist[0], theta in epoch (num_epoch) is theta_hist[-1]\n",
    "        loss hist - the history of loss function vector, 2D numpy array of size (num_epoch, num_instances)\n",
    "    \"\"\"\n",
    "    num_instances, num_features = X.shape[0], X.shape[1]\n",
    "    theta = np.ones(num_features) #Initialize theta\n",
    "\n",
    "    theta_hist = np.zeros((num_epoch, num_instances, num_features)) #Initialize theta_hist\n",
    "    loss_hist = np.zeros((num_epoch, num_instances)) #Initialize loss_hist\n",
    "    \n",
    "    step_size = 1\n",
    "    for t in range(num_epoch):\n",
    "        shuffle = np.random.permutation(num_instances)\n",
    "        for i in shuffle:\n",
    "            theta_hist[t,i] = theta\n",
    "            loss_hist[t,i] = compute_square_loss(X,y,theta) +  np.sum(theta ** 2)*lambda_reg\n",
    "            gradient =  compute_regularized_square_loss_gradient(X[i], y[i], theta, lambda_reg)\n",
    "            if isinstance(alpha,str):\n",
    "                if alpha=='1/sqrt(t)':\n",
    "                    theta = theta - c/np.sqrt(step_size)*gradient\n",
    "                elif alpha=='1/t':\n",
    "                    theta = theta - c/ step_size * gradient\n",
    "                step_size +=1 \n",
    "            else:\n",
    "                theta = theta - alpha*gradient\n",
    "    return theta_hist, loss_hist"
   ]
  },
  {
   "cell_type": "markdown",
   "metadata": {},
   "source": [
    "#### 5. Choosing weights with SGD"
   ]
  },
  {
   "cell_type": "code",
   "execution_count": 28,
   "metadata": {},
   "outputs": [
    {
     "data": {
      "image/png": "[encoded data removed]",
      "text/plain": [
       "<Figure size 432x288 with 1 Axes>"
      ]
     },
     "metadata": {
      "needs_background": "light"
     },
     "output_type": "display_data"
    }
   ],
   "source": [
    "## Experiment with fixed step size\n",
    "alphas = [0.05,0.01,0.005,0.001]\n",
    "for a in alphas:\n",
    "    theta_hist, loss_hist = stochastic_grad_descent(X_train, y_train, alpha=a, lambda_reg=10**-2, num_epoch=1000)\n",
    "    avg_loss = loss_hist.mean(axis = 1)\n",
    "    plt.plot(range(len(loss_hist)),np.log(avg_loss),label='alpha:'+str(a))\n",
    "plt.legend(loc=1)\n",
    "plt.show()"
   ]
  },
  {
   "cell_type": "code",
   "execution_count": 29,
   "metadata": {
    "scrolled": true
   },
   "outputs": [
    {
     "data": {
      "image/png": "[encoded data removed]",
      "text/plain": [
       "<Figure size 432x288 with 1 Axes>"
      ]
     },
     "metadata": {
      "needs_background": "light"
     },
     "output_type": "display_data"
    },
    {
     "data": {
      "image/png": "[encoded data removed]",
      "text/plain": [
       "<Figure size 432x288 with 1 Axes>"
      ]
     },
     "metadata": {
      "needs_background": "light"
     },
     "output_type": "display_data"
    }
   ],
   "source": [
    "## Experiment with dynamic step sizes\n",
    "for s in ['1/sqrt(t)','1/t']:\n",
    "    theta_hist,loss_hist = stochastic_grad_descent(X_train,y_train,lambda_reg=10**-2,alpha=s,c=0.1)\n",
    "    avg_loss = loss_hist.mean(axis = 1)\n",
    "    plt.plot(range(len(loss_hist)),np.log(avg_loss),label='alpha=%s' %s)\n",
    "    plt.xlabel(\"number of epochs\")\n",
    "    plt.ylabel(\"loss\")\n",
    "    plt.legend(loc=1)\n",
    "    plt.show()"
   ]
  },
  {
   "cell_type": "code",
   "execution_count": 30,
   "metadata": {},
   "outputs": [
    {
     "data": {
      "image/png": "[encoded data removed]",
      "text/plain": [
       "<Figure size 432x288 with 1 Axes>"
      ]
     },
     "metadata": {
      "needs_background": "light"
     },
     "output_type": "display_data"
    }
   ],
   "source": [
    "# Combining the stepsizes together to compare, for fixed stepsize we only choose 0.01 and 0.05 \n",
    "# because 0.001 and 0.005 converges comparatively much slower\n",
    "alphas = [0.01,0.005,'1/sqrt(t)','1/t']\n",
    "for s in alphas:\n",
    "    theta_hist,loss_hist = stochastic_grad_descent(X_train,y_train,lambda_reg=10**-2,alpha=s,c=0.1)\n",
    "    avg_loss = loss_hist.mean(axis = 1)\n",
    "    plt.plot(range(len(loss_hist)),np.log(avg_loss),label='alpha=%s' %s)\n",
    "plt.xlabel(\"number of epochs\")\n",
    "plt.ylabel(\"loss\")\n",
    "plt.legend(loc=1)\n",
    "plt.show()"
   ]
  },
  {
   "cell_type": "markdown",
   "metadata": {},
   "source": [
    "Observing from the result, we conclude that SGD takes more time to reach the optimized result. In terms of fixed alpha, the performance was similar, and the overall performance is slightly better than dynamic steps as 1/sqrt(t). In terms of the dynamic steps, '1/sqrt(t)' performs better while 1/t doesn't converge."
   ]
  },
  {
   "cell_type": "markdown",
   "metadata": {},
   "source": [
    "### 6. more on  SGD"
   ]
  },
  {
   "cell_type": "markdown",
   "metadata": {},
   "source": [
    "###### optional 1: Experiment with using averaged theta and the last theta in different stepsizes"
   ]
  },
  {
   "cell_type": "code",
   "execution_count": 19,
   "metadata": {},
   "outputs": [],
   "source": [
    "avg_test_loss, sgd_test_loss = [],[]\n",
    "alphas = [0.05,0.01,0.005,0.001,'1/sqrt(t)','1/t']\n",
    "\n",
    "for s in alphas:\n",
    "    theta_hist,loss_hist = stochastic_grad_descent(X_train,y_train,lambda_reg=10**-2,alpha=s,c=0.1)\n",
    "    theta_avg =np.mean(np.mean(np.array(theta_hist),axis=0),axis=0) \n",
    "    theta_last =np.mean(theta_hist[-1],axis=0) \n",
    "    avg_test_loss.append(compute_square_loss(X_test,y_test,theta_avg))\n",
    "    sgd_test_loss.append(compute_square_loss(X_test,y_test,theta_last))"
   ]
  },
  {
   "cell_type": "code",
   "execution_count": 20,
   "metadata": {},
   "outputs": [
    {
     "data": {
      "image/png": "[encoded data removed]",
      "text/plain": [
       "<Figure size 432x288 with 1 Axes>"
      ]
     },
     "metadata": {
      "needs_background": "light"
     },
     "output_type": "display_data"
    }
   ],
   "source": [
    "plt.plot(alphas,avg_test_loss,label='averaged theta')\n",
    "plt.plot(alphas,sgd_test_loss,label='last theta')\n",
    "\n",
    "plt.xlabel(\"stepsize taken\")\n",
    "plt.ylabel(\"test loss\")\n",
    "plt.legend(loc=1)\n",
    "plt.show()"
   ]
  },
  {
   "cell_type": "markdown",
   "metadata": {},
   "source": [
    "Observing from the pattern, these aren't much difference on test loss between average theta and using the last theta.Because if we don't consider 1/t, the performance is nearly the same."
   ]
  },
  {
   "cell_type": "markdown",
   "metadata": {},
   "source": [
    "##### Optional 2: Experiment of regularized SGD with eta"
   ]
  },
  {
   "cell_type": "code",
   "execution_count": 23,
   "metadata": {},
   "outputs": [],
   "source": [
    "def eta_stochastic_grad_descent(X, y, alpha=0.01, lambda_reg=10**-2, num_epoch=1000,c=0.1,eta0 = 0):\n",
    "    num_instances, num_features = X.shape[0], X.shape[1]\n",
    "    theta = np.ones(num_features) #Initialize theta\n",
    "\n",
    "    theta_hist = np.zeros((num_epoch, num_instances, num_features)) #Initialize theta_hist\n",
    "    loss_hist = np.zeros((num_epoch, num_instances)) #Initialize loss_hist\n",
    "    \n",
    "    step_size = 1\n",
    "    for t in range(num_epoch):\n",
    "        shuffle = np.random.permutation(num_instances)\n",
    "        for i in shuffle:\n",
    "            theta_hist[t,i] = theta\n",
    "            loss_hist[t,i] = compute_square_loss(X,y,theta) +  np.sum(theta ** 2)*lambda_reg\n",
    "            gradient =  compute_regularized_square_loss_gradient(X[i], y[i], theta, lambda_reg)\n",
    "            if eta0 == 0:\n",
    "                if isinstance(alpha,str):\n",
    "                    if alpha=='1/sqrt(t)':\n",
    "                        theta = theta - c/np.sqrt(step_size)*gradient\n",
    "                    elif alpha=='1/t':\n",
    "                        theta = theta - c/ step_size * gradient\n",
    "                    step_size +=1 \n",
    "                else:\n",
    "                    theta = theta - alpha*gradient\n",
    "            else:\n",
    "                alpha = eta0 / (1+eta0*lambda_reg*step_size)\n",
    "                theta = theta - alpha*gradient\n",
    "                step_size += 1\n",
    "    return theta_hist, loss_hist"
   ]
  },
  {
   "cell_type": "code",
   "execution_count": 27,
   "metadata": {},
   "outputs": [
    {
     "data": {
      "image/png": "[encoded data removed]",
      "text/plain": [
       "<Figure size 432x288 with 1 Axes>"
      ]
     },
     "metadata": {
      "needs_background": "light"
     },
     "output_type": "display_data"
    }
   ],
   "source": [
    "# for eta0 =0.01 and alpha = 0.01, eta0 = 0\n",
    "theta_hist1,loss_hist1 = stochastic_grad_descent(X_train,y_train,lambda_reg=10**-2,alpha='1/sqrt(t)',c=0.1)\n",
    "theta_hist2,loss_hist2 = eta_stochastic_grad_descent(X_train,y_train,lambda_reg=10**-2,alpha=0.01,c=0.1,eta0 = 0.01)\n",
    "plt.plot(range(len(loss_hist1)),np.log(np.mean(loss_hist1,axis=1)),label='alpha = 0.1/sqrt(t)')\n",
    "plt.plot(range(len(loss_hist2)),np.log(np.mean(loss_hist2,axis=1)),label='eta0 = 0.01')\n",
    "plt.xlabel(\"number of epochs\")\n",
    "plt.ylabel(\"loss\")\n",
    "plt.legend(loc=1)\n",
    "plt.show()"
   ]
  },
  {
   "cell_type": "markdown",
   "metadata": {},
   "source": [
    "Observing from the graph, with eta, the SGD converge faster than simply using alpha = 0.1/sqrt(t)."
   ]
  }
 ],
 "metadata": {
  "kernelspec": {
   "display_name": "Python 3",
   "language": "python",
   "name": "python3"
  },
  "language_info": {
   "codemirror_mode": {
    "name": "ipython",
    "version": 3
   },
   "file_extension": ".py",
   "mimetype": "text/x-python",
   "name": "python",
   "nbconvert_exporter": "python",
   "pygments_lexer": "ipython3",
   "version": "3.7.4"
  }
 },
 "nbformat": 4,
 "nbformat_minor": 2
}
