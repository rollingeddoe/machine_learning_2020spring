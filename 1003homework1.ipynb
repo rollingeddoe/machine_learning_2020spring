{
 "cells": [
  {
   "cell_type": "code",
   "execution_count": 1,
   "metadata": {},
   "outputs": [],
   "source": [
    "import pandas as pd\n",
    "import numpy as np\n",
    "from matplotlib import pyplot as plt"
   ]
  },
  {
   "cell_type": "code",
   "execution_count": 2,
   "metadata": {},
   "outputs": [],
   "source": [
    "train = pd.read_csv(\"spam_train.txt\",header = None, names = ['email'])\n",
    "test = pd.read_csv(\"spam_test.txt\", header = None, names = ['email'])"
   ]
  },
  {
   "cell_type": "code",
   "execution_count": 3,
   "metadata": {},
   "outputs": [],
   "source": [
    "train['spam']=train.applymap(lambda x: x.split(' ')[0]).replace(['0','1'],[int(-1),int(1)])\n",
    "train['email'] = train['email'].map(lambda x: x[2:])\n",
    "test['spam']=test.applymap(lambda x: x.split(' ')[0]).replace(['0','1'],[int(-1),int(1)])\n",
    "test['email'] = test['email'].map(lambda x: x[2:])\n",
    "train['email'] = train['email'].str.lower()\n",
    "test['email'] = test['email'].str.lower()"
   ]
  },
  {
   "cell_type": "markdown",
   "metadata": {},
   "source": [
    "1 (3 points) This problem set will involve your implementing several variants of the Perceptron algorithm discussed in Section 1 and Lecture 2. Before you can build these models and\n",
    "measure their performance, split your training data (i.e. spam train.txt) into a training and validate set, putting the last 1000 emails into the validation set. Thus, you will have\n",
    "a new training set with 4000 emails and a validation set with 1000 emails. You will not\n",
    "use spam test.txt until problem 10.\n",
    "Explain why measuring the performance of your final classifier would be problematic had\n",
    "you not created this validation set."
   ]
  },
  {
   "cell_type": "markdown",
   "metadata": {},
   "source": [
    "Answer 1:  \n",
    "We have to create this validation set because we use training data to fit model and validation set for tuning. Tuning is very important because it is essential in finding better parameters/configurations that optimize the model performance."
   ]
  },
  {
   "cell_type": "code",
   "execution_count": 4,
   "metadata": {},
   "outputs": [],
   "source": [
    "#Split into new training set and validation set\n",
    "train_new,train_val = train[:4000],train[4000:]"
   ]
  },
  {
   "cell_type": "markdown",
   "metadata": {},
   "source": [
    "2 (6 points) Transform all of the data into feature vectors. Build a vocabulary list using\n",
    "only the 4000 e-mail training set by finding all words that occur across the training set.\n",
    "Note that we assume that the data in the validation and test sets is completely unseen\n",
    "when we train our model, and thus we do not use any information contained in them.\n",
    "Ignore all words that appear in fewer than X = 30 e-mails of the 4000 e-mail training set –\n",
    "this is both a means of preventing overfitting and of improving scalability. For each email,\n",
    "transform it into a feature vector ~x where the ith entry, xi\n",
    ", is 1 if the ith word in the\n",
    "vocabulary occurs in the email, and 0 otherwise."
   ]
  },
  {
   "cell_type": "code",
   "execution_count": 5,
   "metadata": {},
   "outputs": [],
   "source": [
    "def vocabulary(library,n):\n",
    "    vcb = {}\n",
    "    for line in library:\n",
    "        l = []\n",
    "        for word in line.split(' '):\n",
    "            if word not in l:\n",
    "                l.append(word)\n",
    "        for i in l:\n",
    "             if len(i) > 0:\n",
    "                if i in vcb:\n",
    "                    vcb[i]+=1\n",
    "                else:\n",
    "                    vcb[i]=1\n",
    "    del_v = [word for word in vcb if vcb[word] < n ]\n",
    "    for d in del_v:\n",
    "        vcb.pop(d)\n",
    "    return sorted(vcb, key=vcb.__getitem__,reverse=True)"
   ]
  },
  {
   "cell_type": "code",
   "execution_count": 6,
   "metadata": {},
   "outputs": [],
   "source": [
    "vcb_train = vocabulary(train_new.iloc[:,0],30)"
   ]
  },
  {
   "cell_type": "code",
   "execution_count": 7,
   "metadata": {},
   "outputs": [],
   "source": [
    "def words_in_texts(words, texts):\n",
    "    '''\n",
    "    Args:\n",
    "        words (list-like): words to find\n",
    "        texts (Series): strings to search in\n",
    "    \n",
    "    Returns:\n",
    "        NumPy array of 0s and 1s with shape (n, p) where n is the\n",
    "        number of texts and p is the number of words.\n",
    "    '''\n",
    "    texts=texts.str.split(' ')\n",
    "    indicator_array = np.array([texts.str.contains(word,regex=False) for word in words])\n",
    "    indicator_array =indicator_array.T.astype('int32')\n",
    "    return indicator_array"
   ]
  },
  {
   "cell_type": "markdown",
   "metadata": {},
   "source": [
    "3 (12 points) Implement the functions perceptron train(data) and perceptron test(w,\n",
    "data).\n",
    "The function perceptron train(data) trains a perceptron classifier using the examples\n",
    "provided to the function, and should return ~w, k, and iter, the final classification vector,\n",
    "the number of updates (mistakes) performed, and the number of passes through the data,\n",
    "respectively. You may assume that the input data provided to your function is linearly\n",
    "separable (so the stopping criterion should be that all points are correctly classified).\n",
    "For this exercise, you do not need to add an offset feature to the feature vector (it turns\n",
    "out not to improve classification accuracy, possibly because a frequently occurring word\n",
    "already serves this purpose). Your implementation should cycle through the data points in\n",
    "the order as given in the data files (rather than randomizing), so that results are consistent\n",
    "for grading purposes.\n",
    "The function perceptron test(w, data) should take as input the weight vector ~w (the\n",
    "classification vector to be used) and a set of examples. The function should return the test\n",
    "error, i.e. the fraction of examples that are misclassified by ~w.\n"
   ]
  },
  {
   "cell_type": "code",
   "execution_count": 8,
   "metadata": {},
   "outputs": [],
   "source": [
    "#x is the indicator array obtained from last step\n",
    "x_train = words_in_texts(vcb_train,pd.Series(train_new.iloc[:,0]))\n",
    "x_val = words_in_texts(vcb_train,pd.Series(train_val.iloc[:,0]))\n",
    "#y is the spam column from training data\n",
    "y_train = train_new.loc[:,'spam']\n",
    "y_val = train_val.loc[:,'spam']"
   ]
  },
  {
   "cell_type": "code",
   "execution_count": 9,
   "metadata": {},
   "outputs": [],
   "source": [
    "def perceptron_train(x,y,max_iterr):\n",
    "    w = np.zeros(len(x[0,:]))\n",
    "    k = 0\n",
    "    t = 0 \n",
    "    boo = False\n",
    "    while boo==False and (t <= max_iterr):\n",
    "        t+=1\n",
    "        boo = True\n",
    "        for i in range(len(y)):\n",
    "            if y[i]*np.dot(w.T,x[i]) <=0 and sum(x[i])!=0:\n",
    "                w=w+y[i]*x[i]\n",
    "                k+=1\n",
    "                boo = False\n",
    "    return w, k, t"
   ]
  },
  {
   "cell_type": "code",
   "execution_count": 10,
   "metadata": {},
   "outputs": [],
   "source": [
    "def perceptron_test(w,x,y):\n",
    "    yhat = [1 if np.dot(w.T,x[j]) >= 0.0 else -1 for j in range(len(y))]\n",
    "    n=0\n",
    "    error = float(sum(yhat!=y))/len(y)\n",
    "    return error"
   ]
  },
  {
   "cell_type": "markdown",
   "metadata": {},
   "source": [
    "4 (6 points) Train the linear classifier using your training set. How many mistakes are\n",
    "made before the algorithm terminates? Test your implementation of perceptron test by\n",
    "running it with the learned parameters and the training data, making sure that the training\n",
    "error is zero. Next, classify the emails in your validation set. What is the validation error?"
   ]
  },
  {
   "cell_type": "code",
   "execution_count": 11,
   "metadata": {},
   "outputs": [
    {
     "name": "stdout",
     "output_type": "stream",
     "text": [
      "mistake made before converging: 437\n",
      "iteration before converging: 11\n",
      "validation test error: 0.013\n"
     ]
    }
   ],
   "source": [
    "#validation set\n",
    "weights,k_mistake,t_iter = perceptron_train(x_train,y_train,20)\n",
    "y_val = y_val.reset_index(drop = True)\n",
    "print(\"mistake made before converging:\", k_mistake)\n",
    "print(\"iteration before converging:\", t_iter)\n",
    "print(\"validation test error:\", perceptron_test(weights,x_val,y_val))"
   ]
  },
  {
   "cell_type": "markdown",
   "metadata": {},
   "source": [
    "5 (3 points) To better understand how the spam classifier works, we can inspect the parameters to see which words the classifier thinks are the most predictive of spam. Using\n",
    "the vocabulary list together with the parameters learned in the previous question, output\n",
    "the 15 words with the most positive weights. What are they? Which 15 words have the\n",
    "most negative weights?\n"
   ]
  },
  {
   "cell_type": "code",
   "execution_count": 12,
   "metadata": {},
   "outputs": [
    {
     "name": "stdout",
     "output_type": "stream",
     "text": [
      "The most positive words are : [['sight' 22.0]\n",
      " ['click' 18.0]\n",
      " ['remov' 16.0]\n",
      " ['market' 16.0]\n",
      " ['these' 16.0]\n",
      " ['our' 15.0]\n",
      " ['deathtospamdeathtospamdeathtospam' 14.0]\n",
      " ['most' 13.0]\n",
      " ['ever' 12.0]\n",
      " ['parti' 12.0]\n",
      " ['yourself' 12.0]\n",
      " ['present' 12.0]\n",
      " ['guarante' 11.0]\n",
      " ['am' 11.0]\n",
      " ['pleas' 11.0]]\n",
      "The most negative words are : [['coupl' -10.0]\n",
      " ['date' -10.0]\n",
      " ['url' -10.0]\n",
      " ['recipi' -11.0]\n",
      " ['someth' -11.0]\n",
      " ['comput' -11.0]\n",
      " ['which' -11.0]\n",
      " ['but' -11.0]\n",
      " ['technolog' -12.0]\n",
      " ['i' -12.0]\n",
      " ['still' -12.0]\n",
      " ['copyright' -13.0]\n",
      " ['prefer' -14.0]\n",
      " ['reserv' -15.0]\n",
      " ['wrote' -16.0]]\n"
     ]
    }
   ],
   "source": [
    "word_weights = pd.DataFrame(list(zip(vcb_train,weights)),columns = ['word','weight'])\n",
    "most_pos = word_weights.sort_values(by = 'weight', ascending = 0)[:15]\n",
    "most_neg = word_weights.sort_values(by = 'weight', ascending = 0)[-15:]\n",
    "print(\"The most positive words are :\", most_pos.values)\n",
    "print(\"The most negative words are :\", most_neg.values)"
   ]
  },
  {
   "cell_type": "markdown",
   "metadata": {},
   "source": [
    "6 (6 points) Implement the averaged perceptron algorithm, which is the same as your current implementation but which, rather than returning the final weight vector, returns the\n",
    "average of all weight vectors considered during the algorithm (including examples where\n",
    "no mistake was made). Averaging reduces the variance between the different vectors, and\n",
    "is a powerful means of preventing the learning algorithm from overfitting (serving as a type\n",
    "of regularization)."
   ]
  },
  {
   "cell_type": "code",
   "execution_count": 13,
   "metadata": {},
   "outputs": [],
   "source": [
    "def perceptron_train_avg(x,y,max_iterr):\n",
    "    w,w_vec = np.zeros(len(x[0,:])),np.zeros(len(x[0,:]))\n",
    "    k = 0\n",
    "    t = 0\n",
    "    boo = False\n",
    "    while boo ==False and (t <= max_iterr):\n",
    "        yhat = [1 if np.dot(w.T,x[j]) >= 0.0 else -1 for j in range(len(y))]\n",
    "        boo = np.allclose(yhat, y)\n",
    "        t+=1\n",
    "        for i in range(len(y)):\n",
    "            w_vec += w\n",
    "            if y[i]*np.dot(w.T,x[i]) <=0 and sum(x[i])!=0:\n",
    "                w=w+y[i]*x[i]\n",
    "                k+=1\n",
    "    \n",
    "    return w_vec/(len(y)*t), k, t"
   ]
  },
  {
   "cell_type": "code",
   "execution_count": 14,
   "metadata": {},
   "outputs": [
    {
     "name": "stdout",
     "output_type": "stream",
     "text": [
      "validation test error: 0.016\n"
     ]
    }
   ],
   "source": [
    "w_avg,k_2,iter_2 = perceptron_train_avg(x_train,y_train,30)\n",
    "print(\"validation test error:\", perceptron_test(w_avg,x_val,y_val))"
   ]
  },
  {
   "cell_type": "markdown",
   "metadata": {},
   "source": [
    "7 (3 points) One should expect that the test error decreases as the amount of training\n",
    "data increases. Using only the first N rows of your training data, run both the perceptron and the averaged perceptron algorithms on this smaller training set and evaluate the corresponding validation error (using all of the validation data). Do this for\n",
    "N = 100, 200, 400, 800, 2000, 4000, and create a plot of the validation error of both algorithms as a function of N."
   ]
  },
  {
   "cell_type": "code",
   "execution_count": 15,
   "metadata": {},
   "outputs": [],
   "source": [
    "N = [100, 200, 400, 800, 2000, 4000]\n",
    "e1 = []\n",
    "for n in N:\n",
    "    w1,k1,t1 = perceptron_train(x_train[:n],y_train[:n],30)\n",
    "    e1.append(perceptron_test(w1,x_val,y_val))\n",
    "e2 = []\n",
    "for n in N:\n",
    "    w2,k2,t2 = perceptron_train_avg(x_train[:n],y_train[:n],30)\n",
    "    e2.append(perceptron_test(w2,x_val,y_val))"
   ]
  },
  {
   "cell_type": "code",
   "execution_count": 16,
   "metadata": {},
   "outputs": [
    {
     "data": {
      "image/png": "[encoded data removed]",
      "text/plain": [
       "<Figure size 432x288 with 1 Axes>"
      ]
     },
     "metadata": {
      "needs_background": "light"
     },
     "output_type": "display_data"
    }
   ],
   "source": [
    "#plotting\n",
    "plt.xlabel('N')\n",
    "plt.ylabel('validation error')\n",
    "plt.plot( N , e1,color ='green',label = \"perceptron\")\n",
    "plt.plot( N , e2,color ='red',label = \"perceptron_avg\")\n",
    "plt.legend()\n",
    "plt.show()"
   ]
  },
  {
   "cell_type": "markdown",
   "metadata": {},
   "source": [
    "8 (3 points) Also for N = 100, 200, 400, 800, 2000, 4000, create a plot of the number of\n",
    "perceptron iterations as a function of N, where by iteration we mean a complete pass\n",
    "through the training data. As the amount of training data increases, the margin of the\n",
    "training set decreases, which generally leads to an increase in the number of iterations\n",
    "perceptron takes to converge (although it need not be monotonic).\n"
   ]
  },
  {
   "cell_type": "code",
   "execution_count": 17,
   "metadata": {},
   "outputs": [],
   "source": [
    "N = [100, 200, 400, 800, 2000,4000]\n",
    "t = []\n",
    "for n in N:\n",
    "    w1,k1,t1 = perceptron_train(x_train[:n],y_train[:n],30)\n",
    "    t.append(t1)"
   ]
  },
  {
   "cell_type": "code",
   "execution_count": 18,
   "metadata": {},
   "outputs": [
    {
     "data": {
      "text/plain": [
       "<matplotlib.legend.Legend at 0x20720ca0e48>"
      ]
     },
     "execution_count": 18,
     "metadata": {},
     "output_type": "execute_result"
    },
    {
     "data": {
      "image/png": "[encoded data removed]",
      "text/plain": [
       "<Figure size 432x288 with 1 Axes>"
      ]
     },
     "metadata": {
      "needs_background": "light"
     },
     "output_type": "display_data"
    }
   ],
   "source": [
    "plt.xlabel('N')\n",
    "plt.ylabel('number of iteration')\n",
    "plt.plot(N,t,color ='green',label = \"perceptron\")\n",
    "plt.legend()"
   ]
  },
  {
   "cell_type": "markdown",
   "metadata": {},
   "source": [
    "9 (3 points) One consequence of this is that the later iterations typically perform updates\n",
    "on only a small subset of the data points, which can contribute to overfitting. A way to\n",
    "solve this is to control the maximum number of iterations of the perceptron algorithm. Add\n",
    "an argument to both the perceptron and averaged perceptron algorithms that controls the\n",
    "maximum number of passes over the data.\n",
    "Try various configurations of the algorithms on your own using all 4000 training points,\n",
    "and find a good configuration having a low error on your validation set. In particular, try\n",
    "changing the choice of perceptron algorithm and the maximum number of iterations. Report the validation error for several of the configurations that you tried; which configuration\n",
    "works best?"
   ]
  },
  {
   "cell_type": "code",
   "execution_count": 19,
   "metadata": {},
   "outputs": [
    {
     "name": "stdout",
     "output_type": "stream",
     "text": [
      "Perceptron: The Val_error for max_iteration as  4 is:  0.023 with iteration of:  5\n",
      "Perceptron average: The Val_error for max_iteration as  4 is:  0.016 with iteration of:  5\n",
      "                                                                       \n",
      "Perceptron: The Val_error for max_iteration as  6 is:  0.02 with iteration of:  7\n",
      "Perceptron average: The Val_error for max_iteration as  6 is:  0.013 with iteration of:  7\n",
      "                                                                       \n",
      "Perceptron: The Val_error for max_iteration as  10 is:  0.013 with iteration of:  11\n",
      "Perceptron average: The Val_error for max_iteration as  10 is:  0.016 with iteration of:  11\n",
      "                                                                       \n",
      "Perceptron: The Val_error for max_iteration as  12 is:  0.013 with iteration of:  11\n",
      "Perceptron average: The Val_error for max_iteration as  12 is:  0.016 with iteration of:  11\n",
      "                                                                       \n",
      "Perceptron: The Val_error for max_iteration as  16 is:  0.013 with iteration of:  11\n",
      "Perceptron average: The Val_error for max_iteration as  16 is:  0.016 with iteration of:  11\n",
      "                                                                       \n",
      "Perceptron: The Val_error for max_iteration as  20 is:  0.013 with iteration of:  11\n",
      "Perceptron average: The Val_error for max_iteration as  20 is:  0.016 with iteration of:  11\n",
      "                                                                       \n"
     ]
    }
   ],
   "source": [
    "iterrs = [4,6,10,12,16,20]\n",
    "\n",
    "for iterr in iterrs:\n",
    "    w1,k1,t1 = perceptron_train(x_train,y_train,iterr)\n",
    "    w2,k2,t2 = perceptron_train_avg(x_train,y_train,iterr)\n",
    "    print(\"Perceptron: The Val_error for max_iteration as \", iterr ,\"is: \" ,perceptron_test(w1,x_val,y_val), \"with iteration of: \", t1)\n",
    "    print(\"Perceptron average: The Val_error for max_iteration as \", iterr ,\"is: \" ,perceptron_test(w2,x_val,y_val), \"with iteration of: \", t2)\n",
    "    print('                                                                       ')"
   ]
  },
  {
   "cell_type": "markdown",
   "metadata": {},
   "source": [
    "10 (Optional) You could additionally change X from question 2."
   ]
  },
  {
   "cell_type": "code",
   "execution_count": 20,
   "metadata": {},
   "outputs": [
    {
     "name": "stdout",
     "output_type": "stream",
     "text": [
      "Perceptron: The Validation error for X as 10 is:  0.02\n",
      "Perceptron average: The Validation error for X as  10 is:  0.013\n",
      "Perceptron: The Validation error for X as 20 is:  0.02\n",
      "Perceptron average: The Validation error for X as  20 is:  0.013\n",
      "Perceptron: The Validation error for X as 30 is:  0.02\n",
      "Perceptron average: The Validation error for X as  30 is:  0.013\n",
      "Perceptron: The Validation error for X as 50 is:  0.02\n",
      "Perceptron average: The Validation error for X as  50 is:  0.013\n"
     ]
    }
   ],
   "source": [
    "#from 9, we get the max_iterr = 6 is the optimized with perceptron_avg algorithm\n",
    "xs = [10,20,30,50]\n",
    "for x in xs:\n",
    "    voc = vocabulary(train_new.iloc[:,0],x)\n",
    "    x_t = words_in_texts(voc,pd.Series(train_new.iloc[:,0]))\n",
    "    y_t = train_new.loc[:,'spam']\n",
    "    w3,k3,t3 = perceptron_train(x_train,y_train,6)\n",
    "    w4,k4,t4 = perceptron_train_avg(x_train,y_train,6)\n",
    "    print(\"Perceptron: The Validation error for X as\", x ,\"is: \" ,perceptron_test(w3,x_val,y_val))\n",
    "    print(\"Perceptron average: The Validation error for X as \", x ,\"is: \" ,perceptron_test(w4,x_val,y_val))\n",
    "    "
   ]
  },
  {
   "cell_type": "markdown",
   "metadata": {},
   "source": [
    "11 (3 points) You are ready to train on the full training set, and see if it works on completely\n",
    "new data. Combine the training set and the validation set (i.e. use all of spam train.txt)\n",
    "and learn using the best of the configurations previously found. What is the error on the\n",
    "test set (i.e., now you finally use spam test.txt)?\n"
   ]
  },
  {
   "cell_type": "code",
   "execution_count": 24,
   "metadata": {},
   "outputs": [
    {
     "name": "stdout",
     "output_type": "stream",
     "text": [
      "The final test error on the best algorithm is 0.017\n"
     ]
    }
   ],
   "source": [
    "#we choose max_iteration as 6 and perceptron_train_avg as our final algorithm\n",
    "final_voc = vocabulary(train.iloc[:,0],30)\n",
    "x_all = words_in_texts(final_voc,pd.Series(train.iloc[:,0]))\n",
    "y_all = train.loc[:,'spam']\n",
    "x_test = words_in_texts(final_voc,pd.Series(test.iloc[:,0]))\n",
    "y_test = test.loc[:,'spam']\n",
    "final_w, final_k,final_t = perceptron_train_avg(x_all,y_all,6)\n",
    "test_error = perceptron_test(final_w,x_test,y_test)\n",
    "print(\"The final test error on the best algorithm is\",test_error)"
   ]
  },
  {
   "cell_type": "markdown",
   "metadata": {},
   "source": [
    "remark: the iteration in question 4 and 9 could be 10 or 6, depend on whether we take in account the last iteration or not(the last iteration won't update the weight)"
   ]
  }
 ],
 "metadata": {
  "kernelspec": {
   "display_name": "Python 3",
   "language": "python",
   "name": "python3"
  },
  "language_info": {
   "codemirror_mode": {
    "name": "ipython",
    "version": 3
   },
   "file_extension": ".py",
   "mimetype": "text/x-python",
   "name": "python",
   "nbconvert_exporter": "python",
   "pygments_lexer": "ipython3",
   "version": "3.7.4"
  }
 },
 "nbformat": 4,
 "nbformat_minor": 4
}
